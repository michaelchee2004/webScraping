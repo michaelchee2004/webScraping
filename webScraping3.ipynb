{
 "cells": [
  {
   "cell_type": "markdown",
   "metadata": {},
   "source": [
    "# Scraping vanityfair article\n",
    "The goal is to scrape this article:\n",
    "[Shame and Survival](https://www.vanityfair.com/style/society/2014/06/monica-lewinsky-humiliation-culture)\n",
    "\n",
    "Features:\n",
    "- There is a lot of special formattings which split the article into different sections, so scraping is not straightforward.\n",
    "- Also, this time I would like to try making a class and understand how exceptions are handled and passed between functions and the class that contains them.\n"
   ]
  },
  {
   "cell_type": "markdown",
   "metadata": {},
   "source": [
    "## Preparation"
   ]
  },
  {
   "cell_type": "code",
   "execution_count": 29,
   "metadata": {},
   "outputs": [
    {
     "name": "stdout",
     "output_type": "stream",
     "text": [
      "Could not get https://www.vanityfair.com/style/society/2014/06/monica-lewinsky-humiliation-culture\n"
     ]
    }
   ],
   "source": [
    "import requests\n",
    "from bs4 import BeautifulSoup\n",
    "\n",
    "url = 'https://www.vanityfair.com/style/society/2014/06/monica-lewinsky-humiliation-culture'\n",
    "    \n",
    "html_data = requests.get(url)\n",
    "soup = BeautifulSoup(html_data.text, 'html.parser')"
   ]
  },
  {
   "cell_type": "markdown",
   "metadata": {},
   "source": [
    "## html analysis\n",
    "The article section is contained within `<div class=\"content paywall drop-cap\" data-reactid=\"223\">`.\n",
    "\n",
    "Then contained in different `<section class=\"content-section\" ...>` are different `<p>` with the article text.\n",
    "\n",
    "Now we extract these texts.\n"
   ]
  },
  {
   "cell_type": "code",
   "execution_count": null,
   "metadata": {},
   "outputs": [],
   "source": [
    "article_container = soup.find('oop\n",
    "                              ', attrs={'class': 'content paywall drop-cap'})\n",
    "article_sections = article_container.findAll('p')\n",
    "article_sections_untagged = [tag.text for tag in article_sections]\n",
    "article_sections_untagged\n"
   ]
  },
  {
   "cell_type": "markdown",
   "metadata": {},
   "source": [
    "## Making a class\n",
    "Now we do from scratch, but instead we make a class called Aricle.\n",
    "\n",
    "Features:\n",
    "- Pulling data and processing the data as soup are compartmentalised as two methods within the class. We then call the methods when initialise\n",
    "- These functions need exception handling in case they fail\n",
    "- The class then need to spit out the exception handling of the function when it runs them, whichever one fails\n",
    "- We don't know which one will fail really\n"
   ]
  },
  {
   "cell_type": "code",
   "execution_count": 53,
   "metadata": {},
   "outputs": [
    {
     "ename": "AttributeError",
     "evalue": "type object 'BeautifulSoup' has no attribute 'FeatureNotFound'",
     "output_type": "error",
     "traceback": [
      "\u001b[1;31m---------------------------------------------------------------------------\u001b[0m",
      "\u001b[1;31mFeatureNotFound\u001b[0m                           Traceback (most recent call last)",
      "\u001b[1;32m<ipython-input-53-110ff88b6f19>\u001b[0m in \u001b[0;36mprocess_data\u001b[1;34m(self)\u001b[0m\n\u001b[0;32m     41\u001b[0m         \u001b[1;32mtry\u001b[0m\u001b[1;33m:\u001b[0m\u001b[1;33m\u001b[0m\u001b[0m\n\u001b[1;32m---> 42\u001b[1;33m             \u001b[0ms\u001b[0m \u001b[1;33m=\u001b[0m \u001b[0mBeautifulSoup\u001b[0m\u001b[1;33m(\u001b[0m\u001b[0mself\u001b[0m\u001b[1;33m.\u001b[0m\u001b[0mhtml\u001b[0m\u001b[1;33m.\u001b[0m\u001b[0mtext\u001b[0m\u001b[1;33m,\u001b[0m \u001b[1;34m'htl.parser'\u001b[0m\u001b[1;33m)\u001b[0m\u001b[1;33m\u001b[0m\u001b[0m\n\u001b[0m\u001b[0;32m     43\u001b[0m         \u001b[1;32mexcept\u001b[0m \u001b[0mBeautifulSoup\u001b[0m\u001b[1;33m.\u001b[0m\u001b[0mFeatureNotFound\u001b[0m\u001b[1;33m:\u001b[0m\u001b[1;33m\u001b[0m\u001b[0m\n",
      "\u001b[1;32m~\\AppData\\Local\\Continuum\\anaconda3\\lib\\site-packages\\bs4\\__init__.py\u001b[0m in \u001b[0;36m__init__\u001b[1;34m(self, markup, features, builder, parse_only, from_encoding, exclude_encodings, **kwargs)\u001b[0m\n\u001b[0;32m    164\u001b[0m                     \u001b[1;34m\"requested: %s. Do you need to install a parser library?\"\u001b[0m\u001b[1;33m\u001b[0m\u001b[0m\n\u001b[1;32m--> 165\u001b[1;33m                     % \",\".join(features))\n\u001b[0m\u001b[0;32m    166\u001b[0m             \u001b[0mbuilder\u001b[0m \u001b[1;33m=\u001b[0m \u001b[0mbuilder_class\u001b[0m\u001b[1;33m(\u001b[0m\u001b[1;33m)\u001b[0m\u001b[1;33m\u001b[0m\u001b[0m\n",
      "\u001b[1;31mFeatureNotFound\u001b[0m: Couldn't find a tree builder with the features you requested: htl.parser. Do you need to install a parser library?",
      "\nDuring handling of the above exception, another exception occurred:\n",
      "\u001b[1;31mAttributeError\u001b[0m                            Traceback (most recent call last)",
      "\u001b[1;32m<ipython-input-53-110ff88b6f19>\u001b[0m in \u001b[0;36m<module>\u001b[1;34m()\u001b[0m\n\u001b[0;32m     47\u001b[0m             \u001b[1;32mreturn\u001b[0m \u001b[0ms\u001b[0m\u001b[1;33m\u001b[0m\u001b[0m\n\u001b[0;32m     48\u001b[0m \u001b[1;33m\u001b[0m\u001b[0m\n\u001b[1;32m---> 49\u001b[1;33m \u001b[0mmySoupObject\u001b[0m \u001b[1;33m=\u001b[0m \u001b[0mArticle\u001b[0m\u001b[1;33m(\u001b[0m\u001b[0murl\u001b[0m\u001b[1;33m)\u001b[0m\u001b[1;33m\u001b[0m\u001b[0m\n\u001b[0m",
      "\u001b[1;32m<ipython-input-53-110ff88b6f19>\u001b[0m in \u001b[0;36m__init__\u001b[1;34m(self, url)\u001b[0m\n\u001b[0;32m     26\u001b[0m         \u001b[1;32mtry\u001b[0m\u001b[1;33m:\u001b[0m\u001b[1;33m\u001b[0m\u001b[0m\n\u001b[0;32m     27\u001b[0m             \u001b[0mself\u001b[0m\u001b[1;33m.\u001b[0m\u001b[0mhtml\u001b[0m \u001b[1;33m=\u001b[0m \u001b[0mself\u001b[0m\u001b[1;33m.\u001b[0m\u001b[0mpull_data\u001b[0m\u001b[1;33m(\u001b[0m\u001b[1;33m)\u001b[0m\u001b[1;33m\u001b[0m\u001b[0m\n\u001b[1;32m---> 28\u001b[1;33m             \u001b[0mself\u001b[0m\u001b[1;33m.\u001b[0m\u001b[0msoupdata\u001b[0m \u001b[1;33m=\u001b[0m \u001b[0mself\u001b[0m\u001b[1;33m.\u001b[0m\u001b[0mprocess_data\u001b[0m\u001b[1;33m(\u001b[0m\u001b[1;33m)\u001b[0m\u001b[1;33m\u001b[0m\u001b[0m\n\u001b[0m\u001b[0;32m     29\u001b[0m         \u001b[1;32mexcept\u001b[0m\u001b[1;33m:\u001b[0m\u001b[1;33m\u001b[0m\u001b[0m\n\u001b[0;32m     30\u001b[0m             \u001b[1;32mraise\u001b[0m\u001b[1;33m\u001b[0m\u001b[0m\n",
      "\u001b[1;32m<ipython-input-53-110ff88b6f19>\u001b[0m in \u001b[0;36mprocess_data\u001b[1;34m(self)\u001b[0m\n\u001b[0;32m     41\u001b[0m         \u001b[1;32mtry\u001b[0m\u001b[1;33m:\u001b[0m\u001b[1;33m\u001b[0m\u001b[0m\n\u001b[0;32m     42\u001b[0m             \u001b[0ms\u001b[0m \u001b[1;33m=\u001b[0m \u001b[0mBeautifulSoup\u001b[0m\u001b[1;33m(\u001b[0m\u001b[0mself\u001b[0m\u001b[1;33m.\u001b[0m\u001b[0mhtml\u001b[0m\u001b[1;33m.\u001b[0m\u001b[0mtext\u001b[0m\u001b[1;33m,\u001b[0m \u001b[1;34m'htl.parser'\u001b[0m\u001b[1;33m)\u001b[0m\u001b[1;33m\u001b[0m\u001b[0m\n\u001b[1;32m---> 43\u001b[1;33m         \u001b[1;32mexcept\u001b[0m \u001b[0mBeautifulSoup\u001b[0m\u001b[1;33m.\u001b[0m\u001b[0mFeatureNotFound\u001b[0m\u001b[1;33m:\u001b[0m\u001b[1;33m\u001b[0m\u001b[0m\n\u001b[0m\u001b[0;32m     44\u001b[0m             \u001b[1;32mpass\u001b[0m\u001b[1;33m\u001b[0m\u001b[0m\n\u001b[0;32m     45\u001b[0m             \u001b[1;31m#raise ProcessDataException('Could not process ' + self.url)\u001b[0m\u001b[1;33m\u001b[0m\u001b[1;33m\u001b[0m\u001b[0m\n",
      "\u001b[1;31mAttributeError\u001b[0m: type object 'BeautifulSoup' has no attribute 'FeatureNotFound'"
     ]
    }
   ],
   "source": [
    "import requests\n",
    "from bs4 import BeautifulSoup\n",
    "\n",
    "url = 'https://www.vanityfair.com/style/society/2014/06/monica-lewinsky-humiliation-culture'\n",
    "\n",
    "class MyException(Exception):\n",
    "    pass\n",
    "\n",
    "class PullDataException(MyException):\n",
    "    pass\n",
    "\n",
    "class ProcessDataException(MyException):\n",
    "    pass\n",
    "\n",
    "class Article:\n",
    "    \"\"\"\n",
    "    A class representing an article at website vanityfair.\n",
    "    \n",
    "    Attributes:\n",
    "        url (str): url of article\n",
    "        html (Response object): the html code returned by requests.get\n",
    "        soupdata (soup object): the soup object after processing\n",
    "    \"\"\"\n",
    "    def __init__(self, url):\n",
    "        self.url = url\n",
    "        try:\n",
    "            self.html = self.pull_data()\n",
    "            self.soupdata = self.process_data()\n",
    "        except:\n",
    "            raise \n",
    "        \n",
    "    def pull_data(self):\n",
    "        try:\n",
    "            r = requests.get(self.url)\n",
    "        except:\n",
    "            raise PullDataException('Could not get ' + self.url)\n",
    "        else:\n",
    "            return r\n",
    "        \n",
    "    def process_data(self):\n",
    "        try:\n",
    "            s = BeautifulSoup(self.html.text, 'htl.parser')\n",
    "        except BeautifulSoup.FeatureNotFound:\n",
    "            pass\n",
    "            #raise ProcessDataException('Could not process ' + self.url)\n",
    "        else:\n",
    "            return s\n",
    "\n",
    "mySoupObject = Article(url)"
   ]
  },
  {
   "cell_type": "markdown",
   "metadata": {},
   "source": [
    "## Conclusion\n",
    "- In function, we mostly `if`, `then`, `raise exception`. Then when running multiple functions in series, we try each function except exception as e, print e.\n",
    "- Should really investigate exception propegation in python. We don't know how to handle exceptions when there are three levels.\n",
    "- `Except:` followed by nothing is bad practice\n",
    "- `Except: raise` is ok though"
   ]
  }
 ],
 "metadata": {
  "kernelspec": {
   "display_name": "Python 3",
   "language": "python",
   "name": "python3"
  },
  "language_info": {
   "codemirror_mode": {
    "name": "ipython",
    "version": 3
   },
   "file_extension": ".py",
   "mimetype": "text/x-python",
   "name": "python",
   "nbconvert_exporter": "python",
   "pygments_lexer": "ipython3",
   "version": "3.6.5"
  }
 },
 "nbformat": 4,
 "nbformat_minor": 2
}
