{
 "cells": [
  {
   "cell_type": "markdown",
   "metadata": {},
   "source": [
    "# Scraping New York Times Website"
   ]
  },
  {
   "cell_type": "code",
   "execution_count": 39,
   "metadata": {},
   "outputs": [],
   "source": [
    "import requests\n",
    "from bs4 import BeautifulSoup\n",
    "import re\n",
    "\n",
    "url = 'https://www.nytimes.com/'\n",
    "\n",
    "data = requests.get(url)\n",
    "soup = BeautifulSoup(data.text, 'html.parser')\n"
   ]
  },
  {
   "cell_type": "markdown",
   "metadata": {},
   "source": [
    "## Observations\n",
    "- `<main id=\"site-content\"` -> `<div>` -> divided into two other `<div>` as below\n",
    "- The top block is a 'spotlight' section with only one main theme. Tag is `<section>` and `data-block-tracking-id` is *Spotlight*. Within is a div, a `<h2>` and two `<span>`. Either span gives you the news title.\n",
    "- On top of Spotlight with `data-block-tracking-id` being *Briefings*. `<div>`x3 then divded into three `<div>` for three articles. \n",
    "- `<article>` -> `<div>`x2 -> two `<div>` for thumbnail or text\n",
    "- `<a>` -> `<div>`x2 -> `<h2>`"
   ]
  },
  {
   "cell_type": "markdown",
   "metadata": {},
   "source": [
    "## Extract heading for spotlight"
   ]
  },
  {
   "cell_type": "code",
   "execution_count": 40,
   "metadata": {},
   "outputs": [
    {
     "data": {
      "text/plain": [
       "'George H.W. Bush, a Restrained and Seasoned Leader in Troubled Times, Dies at 94'"
      ]
     },
     "execution_count": 40,
     "metadata": {},
     "output_type": "execute_result"
    }
   ],
   "source": [
    "main_content = soup.findAll('main', attrs={'id': re.compile('^site-content')})\n",
    "spotlight = main_content[0].find('section', attrs={'data-block-tracking-id': 'Spotlight'})\n",
    "spotlight_heading = spotlight.find('h2').text\n",
    "spotlight_heading"
   ]
  },
  {
   "cell_type": "markdown",
   "metadata": {},
   "source": [
    "## Extract heading for briefings"
   ]
  },
  {
   "cell_type": "code",
   "execution_count": 41,
   "metadata": {},
   "outputs": [
    {
     "data": {
      "text/plain": [
       "['In the ‘At War’ Newsletter',\n",
       " 'The Neediest Cases Fund',\n",
       " 'The Daily Mini Crossword']"
      ]
     },
     "execution_count": 41,
     "metadata": {},
     "output_type": "execute_result"
    }
   ],
   "source": [
    "briefings = main_content[0].find('section', attrs={'data-block-tracking-id': 'Briefings'})\n",
    "briefings\n",
    "briefings_headings = briefings.findAll('h2')\n",
    "briefings_headings = [tag.text for tag in briefings_headings]\n",
    "briefings_headings"
   ]
  },
  {
   "cell_type": "markdown",
   "metadata": {},
   "source": [
    "## Conclusion\n",
    "- in `find` or `findAll`, first arg is the tag, second arg is a dictionary of attributes\n",
    "- attribute values can use re.compile"
   ]
  }
 ],
 "metadata": {
  "kernelspec": {
   "display_name": "Python 3",
   "language": "python",
   "name": "python3"
  },
  "language_info": {
   "codemirror_mode": {
    "name": "ipython",
    "version": 3
   },
   "file_extension": ".py",
   "mimetype": "text/x-python",
   "name": "python",
   "nbconvert_exporter": "python",
   "pygments_lexer": "ipython3",
   "version": "3.6.5"
  }
 },
 "nbformat": 4,
 "nbformat_minor": 2
}
